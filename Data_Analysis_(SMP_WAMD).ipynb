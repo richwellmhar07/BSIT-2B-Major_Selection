{
  "nbformat": 4,
  "nbformat_minor": 0,
  "metadata": {
    "colab": {
      "provenance": []
    },
    "kernelspec": {
      "name": "python3",
      "display_name": "Python 3"
    },
    "language_info": {
      "name": "python"
    }
  },
  "cells": [
    {
      "cell_type": "markdown",
      "source": [
        "# **Data Analysis: Major Selection for Third-Year BSIT Students in the College of Computer Studies at Laguna State Polytechnic University**"
      ],
      "metadata": {
        "id": "HjsNHq0zoFNw"
      }
    },
    {
      "cell_type": "markdown",
      "source": [
        "***Description: This study undertakes a comprehensive analysis of the influencing factors that guide BSIT students in selecting their academic tracks, aiming to uncover the key determinants that shape their decision-making process.***\n",
        "\n",
        "\n",
        "\n",
        "**Respondents:** BSIT Second Year Students\n",
        "\n",
        "**Questionnaire:**\n",
        "\n",
        "1. What is your gender?\n",
        "\n",
        "2. What is your grade in Fundamentals of Programming?\n",
        "\n",
        "3. What is your grade in Intermediate Programming?\n",
        "\n",
        "4. How good are you in programming? (Rate 1-5, with 5 being the highest.)\n",
        "\n",
        "5. Work preference after graduation? (BPO, PROGRAMMER, or FREELANCE)\n",
        "\n",
        "6. What major do you prefer for the third year? (SMP or WAMD)\n",
        "\n"
      ],
      "metadata": {
        "id": "MCORX_YU3LbG"
      }
    },
    {
      "cell_type": "markdown",
      "source": [
        "### **Import Libraries and Load Data**"
      ],
      "metadata": {
        "id": "nQZX4LRg886y"
      }
    },
    {
      "cell_type": "code",
      "source": [
        "from google.colab import drive\n",
        "drive.mount('/content/drive')"
      ],
      "metadata": {
        "colab": {
          "base_uri": "https://localhost:8080/"
        },
        "id": "c6BSDsEDXOBB",
        "outputId": "cb2f3104-0148-4db8-e3e8-3234b6d260f9"
      },
      "execution_count": null,
      "outputs": [
        {
          "output_type": "stream",
          "name": "stdout",
          "text": [
            "Drive already mounted at /content/drive; to attempt to forcibly remount, call drive.mount(\"/content/drive\", force_remount=True).\n"
          ]
        }
      ]
    },
    {
      "cell_type": "code",
      "source": [
        "import pandas as pd\n",
        "import numpy as np\n",
        "import matplotlib.pyplot as plt\n",
        "import seaborn as sns\n",
        "\n",
        "dataset = pd.read_csv(\"/content/drive/MyDrive/majorfinal.csv.csv\")\n",
        "dataset.head()"
      ],
      "metadata": {
        "colab": {
          "base_uri": "https://localhost:8080/",
          "height": 206
        },
        "id": "-rDUOFnH979J",
        "outputId": "7f27bdc5-3794-44fc-ed0f-822334685f9b"
      },
      "execution_count": null,
      "outputs": [
        {
          "output_type": "execute_result",
          "data": {
            "text/plain": [
              "  GENDER  GRADE (Fundamentals)  GRADE (Intermediate)  Proficiency in Coding  \\\n",
              "0   male                  1.25                  1.25                      4   \n",
              "1   male                  1.50                  1.75                      4   \n",
              "2   male                  2.00                  2.25                      3   \n",
              "3   male                  1.25                  1.50                      3   \n",
              "4   male                  2.50                  2.75                      3   \n",
              "\n",
              "  WORK PREFERENCE MAJOR  \n",
              "0       freelance   smp  \n",
              "1       freelance  wamd  \n",
              "2             bpo   smp  \n",
              "3      programmer  wamd  \n",
              "4             bpo   smp  "
            ],
            "text/html": [
              "\n",
              "  <div id=\"df-7c56cc82-2c12-4d01-ae9f-e8860e7cd100\" class=\"colab-df-container\">\n",
              "    <div>\n",
              "<style scoped>\n",
              "    .dataframe tbody tr th:only-of-type {\n",
              "        vertical-align: middle;\n",
              "    }\n",
              "\n",
              "    .dataframe tbody tr th {\n",
              "        vertical-align: top;\n",
              "    }\n",
              "\n",
              "    .dataframe thead th {\n",
              "        text-align: right;\n",
              "    }\n",
              "</style>\n",
              "<table border=\"1\" class=\"dataframe\">\n",
              "  <thead>\n",
              "    <tr style=\"text-align: right;\">\n",
              "      <th></th>\n",
              "      <th>GENDER</th>\n",
              "      <th>GRADE (Fundamentals)</th>\n",
              "      <th>GRADE (Intermediate)</th>\n",
              "      <th>Proficiency in Coding</th>\n",
              "      <th>WORK PREFERENCE</th>\n",
              "      <th>MAJOR</th>\n",
              "    </tr>\n",
              "  </thead>\n",
              "  <tbody>\n",
              "    <tr>\n",
              "      <th>0</th>\n",
              "      <td>male</td>\n",
              "      <td>1.25</td>\n",
              "      <td>1.25</td>\n",
              "      <td>4</td>\n",
              "      <td>freelance</td>\n",
              "      <td>smp</td>\n",
              "    </tr>\n",
              "    <tr>\n",
              "      <th>1</th>\n",
              "      <td>male</td>\n",
              "      <td>1.50</td>\n",
              "      <td>1.75</td>\n",
              "      <td>4</td>\n",
              "      <td>freelance</td>\n",
              "      <td>wamd</td>\n",
              "    </tr>\n",
              "    <tr>\n",
              "      <th>2</th>\n",
              "      <td>male</td>\n",
              "      <td>2.00</td>\n",
              "      <td>2.25</td>\n",
              "      <td>3</td>\n",
              "      <td>bpo</td>\n",
              "      <td>smp</td>\n",
              "    </tr>\n",
              "    <tr>\n",
              "      <th>3</th>\n",
              "      <td>male</td>\n",
              "      <td>1.25</td>\n",
              "      <td>1.50</td>\n",
              "      <td>3</td>\n",
              "      <td>programmer</td>\n",
              "      <td>wamd</td>\n",
              "    </tr>\n",
              "    <tr>\n",
              "      <th>4</th>\n",
              "      <td>male</td>\n",
              "      <td>2.50</td>\n",
              "      <td>2.75</td>\n",
              "      <td>3</td>\n",
              "      <td>bpo</td>\n",
              "      <td>smp</td>\n",
              "    </tr>\n",
              "  </tbody>\n",
              "</table>\n",
              "</div>\n",
              "    <div class=\"colab-df-buttons\">\n",
              "\n",
              "  <div class=\"colab-df-container\">\n",
              "    <button class=\"colab-df-convert\" onclick=\"convertToInteractive('df-7c56cc82-2c12-4d01-ae9f-e8860e7cd100')\"\n",
              "            title=\"Convert this dataframe to an interactive table.\"\n",
              "            style=\"display:none;\">\n",
              "\n",
              "  <svg xmlns=\"http://www.w3.org/2000/svg\" height=\"24px\" viewBox=\"0 -960 960 960\">\n",
              "    <path d=\"M120-120v-720h720v720H120Zm60-500h600v-160H180v160Zm220 220h160v-160H400v160Zm0 220h160v-160H400v160ZM180-400h160v-160H180v160Zm440 0h160v-160H620v160ZM180-180h160v-160H180v160Zm440 0h160v-160H620v160Z\"/>\n",
              "  </svg>\n",
              "    </button>\n",
              "\n",
              "  <style>\n",
              "    .colab-df-container {\n",
              "      display:flex;\n",
              "      gap: 12px;\n",
              "    }\n",
              "\n",
              "    .colab-df-convert {\n",
              "      background-color: #E8F0FE;\n",
              "      border: none;\n",
              "      border-radius: 50%;\n",
              "      cursor: pointer;\n",
              "      display: none;\n",
              "      fill: #1967D2;\n",
              "      height: 32px;\n",
              "      padding: 0 0 0 0;\n",
              "      width: 32px;\n",
              "    }\n",
              "\n",
              "    .colab-df-convert:hover {\n",
              "      background-color: #E2EBFA;\n",
              "      box-shadow: 0px 1px 2px rgba(60, 64, 67, 0.3), 0px 1px 3px 1px rgba(60, 64, 67, 0.15);\n",
              "      fill: #174EA6;\n",
              "    }\n",
              "\n",
              "    .colab-df-buttons div {\n",
              "      margin-bottom: 4px;\n",
              "    }\n",
              "\n",
              "    [theme=dark] .colab-df-convert {\n",
              "      background-color: #3B4455;\n",
              "      fill: #D2E3FC;\n",
              "    }\n",
              "\n",
              "    [theme=dark] .colab-df-convert:hover {\n",
              "      background-color: #434B5C;\n",
              "      box-shadow: 0px 1px 3px 1px rgba(0, 0, 0, 0.15);\n",
              "      filter: drop-shadow(0px 1px 2px rgba(0, 0, 0, 0.3));\n",
              "      fill: #FFFFFF;\n",
              "    }\n",
              "  </style>\n",
              "\n",
              "    <script>\n",
              "      const buttonEl =\n",
              "        document.querySelector('#df-7c56cc82-2c12-4d01-ae9f-e8860e7cd100 button.colab-df-convert');\n",
              "      buttonEl.style.display =\n",
              "        google.colab.kernel.accessAllowed ? 'block' : 'none';\n",
              "\n",
              "      async function convertToInteractive(key) {\n",
              "        const element = document.querySelector('#df-7c56cc82-2c12-4d01-ae9f-e8860e7cd100');\n",
              "        const dataTable =\n",
              "          await google.colab.kernel.invokeFunction('convertToInteractive',\n",
              "                                                    [key], {});\n",
              "        if (!dataTable) return;\n",
              "\n",
              "        const docLinkHtml = 'Like what you see? Visit the ' +\n",
              "          '<a target=\"_blank\" href=https://colab.research.google.com/notebooks/data_table.ipynb>data table notebook</a>'\n",
              "          + ' to learn more about interactive tables.';\n",
              "        element.innerHTML = '';\n",
              "        dataTable['output_type'] = 'display_data';\n",
              "        await google.colab.output.renderOutput(dataTable, element);\n",
              "        const docLink = document.createElement('div');\n",
              "        docLink.innerHTML = docLinkHtml;\n",
              "        element.appendChild(docLink);\n",
              "      }\n",
              "    </script>\n",
              "  </div>\n",
              "\n",
              "\n",
              "<div id=\"df-c4a82f89-ee6e-4823-a7f7-b2c04f217208\">\n",
              "  <button class=\"colab-df-quickchart\" onclick=\"quickchart('df-c4a82f89-ee6e-4823-a7f7-b2c04f217208')\"\n",
              "            title=\"Suggest charts\"\n",
              "            style=\"display:none;\">\n",
              "\n",
              "<svg xmlns=\"http://www.w3.org/2000/svg\" height=\"24px\"viewBox=\"0 0 24 24\"\n",
              "     width=\"24px\">\n",
              "    <g>\n",
              "        <path d=\"M19 3H5c-1.1 0-2 .9-2 2v14c0 1.1.9 2 2 2h14c1.1 0 2-.9 2-2V5c0-1.1-.9-2-2-2zM9 17H7v-7h2v7zm4 0h-2V7h2v10zm4 0h-2v-4h2v4z\"/>\n",
              "    </g>\n",
              "</svg>\n",
              "  </button>\n",
              "\n",
              "<style>\n",
              "  .colab-df-quickchart {\n",
              "      --bg-color: #E8F0FE;\n",
              "      --fill-color: #1967D2;\n",
              "      --hover-bg-color: #E2EBFA;\n",
              "      --hover-fill-color: #174EA6;\n",
              "      --disabled-fill-color: #AAA;\n",
              "      --disabled-bg-color: #DDD;\n",
              "  }\n",
              "\n",
              "  [theme=dark] .colab-df-quickchart {\n",
              "      --bg-color: #3B4455;\n",
              "      --fill-color: #D2E3FC;\n",
              "      --hover-bg-color: #434B5C;\n",
              "      --hover-fill-color: #FFFFFF;\n",
              "      --disabled-bg-color: #3B4455;\n",
              "      --disabled-fill-color: #666;\n",
              "  }\n",
              "\n",
              "  .colab-df-quickchart {\n",
              "    background-color: var(--bg-color);\n",
              "    border: none;\n",
              "    border-radius: 50%;\n",
              "    cursor: pointer;\n",
              "    display: none;\n",
              "    fill: var(--fill-color);\n",
              "    height: 32px;\n",
              "    padding: 0;\n",
              "    width: 32px;\n",
              "  }\n",
              "\n",
              "  .colab-df-quickchart:hover {\n",
              "    background-color: var(--hover-bg-color);\n",
              "    box-shadow: 0 1px 2px rgba(60, 64, 67, 0.3), 0 1px 3px 1px rgba(60, 64, 67, 0.15);\n",
              "    fill: var(--button-hover-fill-color);\n",
              "  }\n",
              "\n",
              "  .colab-df-quickchart-complete:disabled,\n",
              "  .colab-df-quickchart-complete:disabled:hover {\n",
              "    background-color: var(--disabled-bg-color);\n",
              "    fill: var(--disabled-fill-color);\n",
              "    box-shadow: none;\n",
              "  }\n",
              "\n",
              "  .colab-df-spinner {\n",
              "    border: 2px solid var(--fill-color);\n",
              "    border-color: transparent;\n",
              "    border-bottom-color: var(--fill-color);\n",
              "    animation:\n",
              "      spin 1s steps(1) infinite;\n",
              "  }\n",
              "\n",
              "  @keyframes spin {\n",
              "    0% {\n",
              "      border-color: transparent;\n",
              "      border-bottom-color: var(--fill-color);\n",
              "      border-left-color: var(--fill-color);\n",
              "    }\n",
              "    20% {\n",
              "      border-color: transparent;\n",
              "      border-left-color: var(--fill-color);\n",
              "      border-top-color: var(--fill-color);\n",
              "    }\n",
              "    30% {\n",
              "      border-color: transparent;\n",
              "      border-left-color: var(--fill-color);\n",
              "      border-top-color: var(--fill-color);\n",
              "      border-right-color: var(--fill-color);\n",
              "    }\n",
              "    40% {\n",
              "      border-color: transparent;\n",
              "      border-right-color: var(--fill-color);\n",
              "      border-top-color: var(--fill-color);\n",
              "    }\n",
              "    60% {\n",
              "      border-color: transparent;\n",
              "      border-right-color: var(--fill-color);\n",
              "    }\n",
              "    80% {\n",
              "      border-color: transparent;\n",
              "      border-right-color: var(--fill-color);\n",
              "      border-bottom-color: var(--fill-color);\n",
              "    }\n",
              "    90% {\n",
              "      border-color: transparent;\n",
              "      border-bottom-color: var(--fill-color);\n",
              "    }\n",
              "  }\n",
              "</style>\n",
              "\n",
              "  <script>\n",
              "    async function quickchart(key) {\n",
              "      const quickchartButtonEl =\n",
              "        document.querySelector('#' + key + ' button');\n",
              "      quickchartButtonEl.disabled = true;  // To prevent multiple clicks.\n",
              "      quickchartButtonEl.classList.add('colab-df-spinner');\n",
              "      try {\n",
              "        const charts = await google.colab.kernel.invokeFunction(\n",
              "            'suggestCharts', [key], {});\n",
              "      } catch (error) {\n",
              "        console.error('Error during call to suggestCharts:', error);\n",
              "      }\n",
              "      quickchartButtonEl.classList.remove('colab-df-spinner');\n",
              "      quickchartButtonEl.classList.add('colab-df-quickchart-complete');\n",
              "    }\n",
              "    (() => {\n",
              "      let quickchartButtonEl =\n",
              "        document.querySelector('#df-c4a82f89-ee6e-4823-a7f7-b2c04f217208 button');\n",
              "      quickchartButtonEl.style.display =\n",
              "        google.colab.kernel.accessAllowed ? 'block' : 'none';\n",
              "    })();\n",
              "  </script>\n",
              "</div>\n",
              "    </div>\n",
              "  </div>\n"
            ]
          },
          "metadata": {},
          "execution_count": 7
        }
      ]
    },
    {
      "cell_type": "markdown",
      "source": [
        "### **Data Exploration**"
      ],
      "metadata": {
        "id": "wBGH3naMRPkO"
      }
    },
    {
      "cell_type": "code",
      "source": [
        "dataset.describe()"
      ],
      "metadata": {
        "colab": {
          "base_uri": "https://localhost:8080/",
          "height": 300
        },
        "id": "NI2m6SJKBeiF",
        "outputId": "3cde698d-7560-4b09-b6d4-8b9999a05937"
      },
      "execution_count": null,
      "outputs": [
        {
          "output_type": "execute_result",
          "data": {
            "text/plain": [
              "       GRADE (Fundamentals)  GRADE (Intermediate)  Proficiency in Coding\n",
              "count            100.000000             100.00000             100.000000\n",
              "mean               2.062500               1.91500               3.070000\n",
              "std                0.429903               0.36101               0.555141\n",
              "min                1.250000               1.25000               2.000000\n",
              "25%                1.750000               1.75000               3.000000\n",
              "50%                2.000000               1.75000               3.000000\n",
              "75%                2.250000               2.00000               3.000000\n",
              "max                3.000000               2.75000               5.000000"
            ],
            "text/html": [
              "\n",
              "  <div id=\"df-6f0542db-6355-4281-9304-26dc867042ef\" class=\"colab-df-container\">\n",
              "    <div>\n",
              "<style scoped>\n",
              "    .dataframe tbody tr th:only-of-type {\n",
              "        vertical-align: middle;\n",
              "    }\n",
              "\n",
              "    .dataframe tbody tr th {\n",
              "        vertical-align: top;\n",
              "    }\n",
              "\n",
              "    .dataframe thead th {\n",
              "        text-align: right;\n",
              "    }\n",
              "</style>\n",
              "<table border=\"1\" class=\"dataframe\">\n",
              "  <thead>\n",
              "    <tr style=\"text-align: right;\">\n",
              "      <th></th>\n",
              "      <th>GRADE (Fundamentals)</th>\n",
              "      <th>GRADE (Intermediate)</th>\n",
              "      <th>Proficiency in Coding</th>\n",
              "    </tr>\n",
              "  </thead>\n",
              "  <tbody>\n",
              "    <tr>\n",
              "      <th>count</th>\n",
              "      <td>100.000000</td>\n",
              "      <td>100.00000</td>\n",
              "      <td>100.000000</td>\n",
              "    </tr>\n",
              "    <tr>\n",
              "      <th>mean</th>\n",
              "      <td>2.062500</td>\n",
              "      <td>1.91500</td>\n",
              "      <td>3.070000</td>\n",
              "    </tr>\n",
              "    <tr>\n",
              "      <th>std</th>\n",
              "      <td>0.429903</td>\n",
              "      <td>0.36101</td>\n",
              "      <td>0.555141</td>\n",
              "    </tr>\n",
              "    <tr>\n",
              "      <th>min</th>\n",
              "      <td>1.250000</td>\n",
              "      <td>1.25000</td>\n",
              "      <td>2.000000</td>\n",
              "    </tr>\n",
              "    <tr>\n",
              "      <th>25%</th>\n",
              "      <td>1.750000</td>\n",
              "      <td>1.75000</td>\n",
              "      <td>3.000000</td>\n",
              "    </tr>\n",
              "    <tr>\n",
              "      <th>50%</th>\n",
              "      <td>2.000000</td>\n",
              "      <td>1.75000</td>\n",
              "      <td>3.000000</td>\n",
              "    </tr>\n",
              "    <tr>\n",
              "      <th>75%</th>\n",
              "      <td>2.250000</td>\n",
              "      <td>2.00000</td>\n",
              "      <td>3.000000</td>\n",
              "    </tr>\n",
              "    <tr>\n",
              "      <th>max</th>\n",
              "      <td>3.000000</td>\n",
              "      <td>2.75000</td>\n",
              "      <td>5.000000</td>\n",
              "    </tr>\n",
              "  </tbody>\n",
              "</table>\n",
              "</div>\n",
              "    <div class=\"colab-df-buttons\">\n",
              "\n",
              "  <div class=\"colab-df-container\">\n",
              "    <button class=\"colab-df-convert\" onclick=\"convertToInteractive('df-6f0542db-6355-4281-9304-26dc867042ef')\"\n",
              "            title=\"Convert this dataframe to an interactive table.\"\n",
              "            style=\"display:none;\">\n",
              "\n",
              "  <svg xmlns=\"http://www.w3.org/2000/svg\" height=\"24px\" viewBox=\"0 -960 960 960\">\n",
              "    <path d=\"M120-120v-720h720v720H120Zm60-500h600v-160H180v160Zm220 220h160v-160H400v160Zm0 220h160v-160H400v160ZM180-400h160v-160H180v160Zm440 0h160v-160H620v160ZM180-180h160v-160H180v160Zm440 0h160v-160H620v160Z\"/>\n",
              "  </svg>\n",
              "    </button>\n",
              "\n",
              "  <style>\n",
              "    .colab-df-container {\n",
              "      display:flex;\n",
              "      gap: 12px;\n",
              "    }\n",
              "\n",
              "    .colab-df-convert {\n",
              "      background-color: #E8F0FE;\n",
              "      border: none;\n",
              "      border-radius: 50%;\n",
              "      cursor: pointer;\n",
              "      display: none;\n",
              "      fill: #1967D2;\n",
              "      height: 32px;\n",
              "      padding: 0 0 0 0;\n",
              "      width: 32px;\n",
              "    }\n",
              "\n",
              "    .colab-df-convert:hover {\n",
              "      background-color: #E2EBFA;\n",
              "      box-shadow: 0px 1px 2px rgba(60, 64, 67, 0.3), 0px 1px 3px 1px rgba(60, 64, 67, 0.15);\n",
              "      fill: #174EA6;\n",
              "    }\n",
              "\n",
              "    .colab-df-buttons div {\n",
              "      margin-bottom: 4px;\n",
              "    }\n",
              "\n",
              "    [theme=dark] .colab-df-convert {\n",
              "      background-color: #3B4455;\n",
              "      fill: #D2E3FC;\n",
              "    }\n",
              "\n",
              "    [theme=dark] .colab-df-convert:hover {\n",
              "      background-color: #434B5C;\n",
              "      box-shadow: 0px 1px 3px 1px rgba(0, 0, 0, 0.15);\n",
              "      filter: drop-shadow(0px 1px 2px rgba(0, 0, 0, 0.3));\n",
              "      fill: #FFFFFF;\n",
              "    }\n",
              "  </style>\n",
              "\n",
              "    <script>\n",
              "      const buttonEl =\n",
              "        document.querySelector('#df-6f0542db-6355-4281-9304-26dc867042ef button.colab-df-convert');\n",
              "      buttonEl.style.display =\n",
              "        google.colab.kernel.accessAllowed ? 'block' : 'none';\n",
              "\n",
              "      async function convertToInteractive(key) {\n",
              "        const element = document.querySelector('#df-6f0542db-6355-4281-9304-26dc867042ef');\n",
              "        const dataTable =\n",
              "          await google.colab.kernel.invokeFunction('convertToInteractive',\n",
              "                                                    [key], {});\n",
              "        if (!dataTable) return;\n",
              "\n",
              "        const docLinkHtml = 'Like what you see? Visit the ' +\n",
              "          '<a target=\"_blank\" href=https://colab.research.google.com/notebooks/data_table.ipynb>data table notebook</a>'\n",
              "          + ' to learn more about interactive tables.';\n",
              "        element.innerHTML = '';\n",
              "        dataTable['output_type'] = 'display_data';\n",
              "        await google.colab.output.renderOutput(dataTable, element);\n",
              "        const docLink = document.createElement('div');\n",
              "        docLink.innerHTML = docLinkHtml;\n",
              "        element.appendChild(docLink);\n",
              "      }\n",
              "    </script>\n",
              "  </div>\n",
              "\n",
              "\n",
              "<div id=\"df-2846e4f6-b281-49c6-ab2a-8b146af2281a\">\n",
              "  <button class=\"colab-df-quickchart\" onclick=\"quickchart('df-2846e4f6-b281-49c6-ab2a-8b146af2281a')\"\n",
              "            title=\"Suggest charts\"\n",
              "            style=\"display:none;\">\n",
              "\n",
              "<svg xmlns=\"http://www.w3.org/2000/svg\" height=\"24px\"viewBox=\"0 0 24 24\"\n",
              "     width=\"24px\">\n",
              "    <g>\n",
              "        <path d=\"M19 3H5c-1.1 0-2 .9-2 2v14c0 1.1.9 2 2 2h14c1.1 0 2-.9 2-2V5c0-1.1-.9-2-2-2zM9 17H7v-7h2v7zm4 0h-2V7h2v10zm4 0h-2v-4h2v4z\"/>\n",
              "    </g>\n",
              "</svg>\n",
              "  </button>\n",
              "\n",
              "<style>\n",
              "  .colab-df-quickchart {\n",
              "      --bg-color: #E8F0FE;\n",
              "      --fill-color: #1967D2;\n",
              "      --hover-bg-color: #E2EBFA;\n",
              "      --hover-fill-color: #174EA6;\n",
              "      --disabled-fill-color: #AAA;\n",
              "      --disabled-bg-color: #DDD;\n",
              "  }\n",
              "\n",
              "  [theme=dark] .colab-df-quickchart {\n",
              "      --bg-color: #3B4455;\n",
              "      --fill-color: #D2E3FC;\n",
              "      --hover-bg-color: #434B5C;\n",
              "      --hover-fill-color: #FFFFFF;\n",
              "      --disabled-bg-color: #3B4455;\n",
              "      --disabled-fill-color: #666;\n",
              "  }\n",
              "\n",
              "  .colab-df-quickchart {\n",
              "    background-color: var(--bg-color);\n",
              "    border: none;\n",
              "    border-radius: 50%;\n",
              "    cursor: pointer;\n",
              "    display: none;\n",
              "    fill: var(--fill-color);\n",
              "    height: 32px;\n",
              "    padding: 0;\n",
              "    width: 32px;\n",
              "  }\n",
              "\n",
              "  .colab-df-quickchart:hover {\n",
              "    background-color: var(--hover-bg-color);\n",
              "    box-shadow: 0 1px 2px rgba(60, 64, 67, 0.3), 0 1px 3px 1px rgba(60, 64, 67, 0.15);\n",
              "    fill: var(--button-hover-fill-color);\n",
              "  }\n",
              "\n",
              "  .colab-df-quickchart-complete:disabled,\n",
              "  .colab-df-quickchart-complete:disabled:hover {\n",
              "    background-color: var(--disabled-bg-color);\n",
              "    fill: var(--disabled-fill-color);\n",
              "    box-shadow: none;\n",
              "  }\n",
              "\n",
              "  .colab-df-spinner {\n",
              "    border: 2px solid var(--fill-color);\n",
              "    border-color: transparent;\n",
              "    border-bottom-color: var(--fill-color);\n",
              "    animation:\n",
              "      spin 1s steps(1) infinite;\n",
              "  }\n",
              "\n",
              "  @keyframes spin {\n",
              "    0% {\n",
              "      border-color: transparent;\n",
              "      border-bottom-color: var(--fill-color);\n",
              "      border-left-color: var(--fill-color);\n",
              "    }\n",
              "    20% {\n",
              "      border-color: transparent;\n",
              "      border-left-color: var(--fill-color);\n",
              "      border-top-color: var(--fill-color);\n",
              "    }\n",
              "    30% {\n",
              "      border-color: transparent;\n",
              "      border-left-color: var(--fill-color);\n",
              "      border-top-color: var(--fill-color);\n",
              "      border-right-color: var(--fill-color);\n",
              "    }\n",
              "    40% {\n",
              "      border-color: transparent;\n",
              "      border-right-color: var(--fill-color);\n",
              "      border-top-color: var(--fill-color);\n",
              "    }\n",
              "    60% {\n",
              "      border-color: transparent;\n",
              "      border-right-color: var(--fill-color);\n",
              "    }\n",
              "    80% {\n",
              "      border-color: transparent;\n",
              "      border-right-color: var(--fill-color);\n",
              "      border-bottom-color: var(--fill-color);\n",
              "    }\n",
              "    90% {\n",
              "      border-color: transparent;\n",
              "      border-bottom-color: var(--fill-color);\n",
              "    }\n",
              "  }\n",
              "</style>\n",
              "\n",
              "  <script>\n",
              "    async function quickchart(key) {\n",
              "      const quickchartButtonEl =\n",
              "        document.querySelector('#' + key + ' button');\n",
              "      quickchartButtonEl.disabled = true;  // To prevent multiple clicks.\n",
              "      quickchartButtonEl.classList.add('colab-df-spinner');\n",
              "      try {\n",
              "        const charts = await google.colab.kernel.invokeFunction(\n",
              "            'suggestCharts', [key], {});\n",
              "      } catch (error) {\n",
              "        console.error('Error during call to suggestCharts:', error);\n",
              "      }\n",
              "      quickchartButtonEl.classList.remove('colab-df-spinner');\n",
              "      quickchartButtonEl.classList.add('colab-df-quickchart-complete');\n",
              "    }\n",
              "    (() => {\n",
              "      let quickchartButtonEl =\n",
              "        document.querySelector('#df-2846e4f6-b281-49c6-ab2a-8b146af2281a button');\n",
              "      quickchartButtonEl.style.display =\n",
              "        google.colab.kernel.accessAllowed ? 'block' : 'none';\n",
              "    })();\n",
              "  </script>\n",
              "</div>\n",
              "    </div>\n",
              "  </div>\n"
            ]
          },
          "metadata": {},
          "execution_count": 3
        }
      ]
    },
    {
      "cell_type": "markdown",
      "source": [
        "### **Counting Male and Female and Respondents in each Major**"
      ],
      "metadata": {
        "id": "uWiBt-L4Ru9z"
      }
    },
    {
      "cell_type": "code",
      "source": [
        "# Count the number of respondents\n",
        "gender_counts = dataset['GENDER'].value_counts()\n",
        "\n",
        "# Count the number of males and females for SMP\n",
        "smp_counts = dataset[dataset['MAJOR'] == 'smp']['GENDER'].value_counts()\n",
        "\n",
        "# Count the number of males and females for WAMD\n",
        "wamd_counts = dataset[dataset['MAJOR'] == 'wamd']['GENDER'].value_counts()\n",
        "\n",
        "# Display the counts\n",
        "print(\"No. of Students\")\n",
        "print()\n",
        "print(gender_counts)\n",
        "print()\n",
        "print()\n",
        "print(\"SMP Counts\")\n",
        "print()\n",
        "print(smp_counts)\n",
        "print()\n",
        "print(\"\\nWAMD Counts\")\n",
        "print()\n",
        "print(wamd_counts)"
      ],
      "metadata": {
        "id": "5e4N6LtWJKqX",
        "colab": {
          "base_uri": "https://localhost:8080/"
        },
        "outputId": "b8f23dda-71c7-41a9-b75a-197d6953bcce"
      },
      "execution_count": null,
      "outputs": [
        {
          "output_type": "stream",
          "name": "stdout",
          "text": [
            "No. of Students\n",
            "\n",
            "male      69\n",
            "female    31\n",
            "Name: GENDER, dtype: int64\n",
            "\n",
            "\n",
            "SMP Counts\n",
            "\n",
            "male      46\n",
            "female    19\n",
            "Name: GENDER, dtype: int64\n",
            "\n",
            "\n",
            "WAMD Counts\n",
            "\n",
            "male      23\n",
            "female    12\n",
            "Name: GENDER, dtype: int64\n"
          ]
        }
      ]
    },
    {
      "cell_type": "markdown",
      "source": [
        "# **Data Visualization**"
      ],
      "metadata": {
        "id": "nCZVBNdlq-pZ"
      }
    },
    {
      "cell_type": "markdown",
      "source": [
        "### **Display the male and female respondents using a pie chart.**"
      ],
      "metadata": {
        "id": "_YNTVQJPOAxq"
      }
    },
    {
      "cell_type": "code",
      "source": [
        "# Plotting a pie chart for gender distribution\n",
        "fig, ax = plt.subplots()\n",
        "ax.pie(gender_counts, labels=gender_counts.index, autopct='%1.1f%%', startangle=90, colors=['blue', 'pink'])\n",
        "ax.axis('equal')\n",
        "\n",
        "# Set the title\n",
        "plt.title('Overall Gender Distribution')\n",
        "\n",
        "# Show the plot\n",
        "plt.show()\n",
        "\n"
      ],
      "metadata": {
        "colab": {
          "base_uri": "https://localhost:8080/",
          "height": 428
        },
        "id": "s7L8L-KzUxGj",
        "outputId": "e3e1e65e-65ee-440b-c0f0-029933433617"
      },
      "execution_count": null,
      "outputs": [
        {
          "output_type": "display_data",
          "data": {
            "text/plain": [
              "<Figure size 640x480 with 1 Axes>"
            ],
            "image/png": "[encoded data removed]"
          },
          "metadata": {}
        }
      ]
    },
    {
      "cell_type": "markdown",
      "source": [
        "**Based on the pie chart, females constitute only 1/3 of the total respondents.**"
      ],
      "metadata": {
        "id": "jfTBas-9PTUB"
      }
    },
    {
      "cell_type": "markdown",
      "source": [
        "### **Visualize the number of males and females from each major.**"
      ],
      "metadata": {
        "id": "lQPl2Xs6Q3Pu"
      }
    },
    {
      "cell_type": "code",
      "source": [
        "# Count the number of males and females for SMP\n",
        "smp_counts = dataset[dataset['MAJOR'] == 'smp']['GENDER'].value_counts()\n",
        "\n",
        "# Count the number of males and females for WAMD\n",
        "wamd_counts = dataset[dataset['MAJOR'] == 'wamd']['GENDER'].value_counts()\n",
        "\n",
        "# Plotting\n",
        "fig, axes = plt.subplots(nrows=1, ncols=2, figsize=(12, 5))\n",
        "\n",
        "# SMP Counts\n",
        "axes[0].bar(smp_counts.index, smp_counts.values, color=['blue', 'pink'])\n",
        "axes[0].set_title('SMP Gender Distribution')\n",
        "axes[0].set_ylabel('Count')\n",
        "\n",
        "# WAMD Counts\n",
        "axes[1].bar(wamd_counts.index, wamd_counts.values, color=['blue', 'pink'])\n",
        "axes[1].set_title('WAMD Gender Distribution')\n",
        "axes[1].set_ylabel('Count')\n",
        "\n",
        "# Adjust layout\n",
        "plt.tight_layout()\n",
        "\n",
        "# Show the plots\n",
        "plt.show()"
      ],
      "metadata": {
        "colab": {
          "base_uri": "https://localhost:8080/",
          "height": 460
        },
        "id": "0q5rRRmxXaPH",
        "outputId": "3c4d2e3d-dc1f-4027-9597-eb2b33e2fc34"
      },
      "execution_count": null,
      "outputs": [
        {
          "output_type": "display_data",
          "data": {
            "text/plain": [
              "<Figure size 1200x500 with 2 Axes>"
            ],
            "image/png": "[encoded data removed]"
          },
          "metadata": {}
        }
      ]
    },
    {
      "cell_type": "markdown",
      "source": [
        "**We can observe a similarity in the gender distribution across majors.**"
      ],
      "metadata": {
        "id": "_ikEpuiiRvKf"
      }
    },
    {
      "cell_type": "markdown",
      "source": [
        "### **How Students' Grades Affect Their Major Selection**"
      ],
      "metadata": {
        "id": "T19Rhe7FwAPw"
      }
    },
    {
      "cell_type": "code",
      "source": [
        "plt.figure(figsize=(10, 5))\n",
        "\n",
        "# SMP Major\n",
        "plt.scatter(\n",
        "    dataset[dataset['MAJOR'] == 'smp']['GRADE (Fundamentals)'],\n",
        "    dataset[dataset['MAJOR'] == 'smp']['GRADE (Intermediate)'],\n",
        "    label='SMP',\n",
        "    color='blue'\n",
        ")\n",
        "\n",
        "# WAMD Major\n",
        "plt.scatter(\n",
        "    dataset[dataset['MAJOR'] == 'wamd']['GRADE (Fundamentals)'],\n",
        "    dataset[dataset['MAJOR'] == 'wamd']['GRADE (Intermediate)'],\n",
        "    label='WAMD',\n",
        "    color='orange'\n",
        ")\n",
        "\n",
        "# Set labels and title\n",
        "plt.xlabel('Grade in Fundamentals of Programming')\n",
        "plt.ylabel('Grade in Intermediate Programming')\n",
        "plt.title('Effect of Grades on Choosing Major')\n",
        "plt.legend()\n",
        "\n",
        "# Show the plot\n",
        "plt.show()"
      ],
      "metadata": {
        "colab": {
          "base_uri": "https://localhost:8080/",
          "height": 487
        },
        "id": "xsR348LQtEsE",
        "outputId": "a8f4eb6b-b049-4d86-c13f-d3259e446322"
      },
      "execution_count": null,
      "outputs": [
        {
          "output_type": "display_data",
          "data": {
            "text/plain": [
              "<Figure size 1000x500 with 1 Axes>"
            ],
            "image/png": "[encoded data removed]"
          },
          "metadata": {}
        }
      ]
    },
    {
      "cell_type": "markdown",
      "source": [
        "**We can assume from this visualization that most students with higher grades prefer WAMD as their major for the third year.**"
      ],
      "metadata": {
        "id": "DNSfoYSNSmM_"
      }
    },
    {
      "cell_type": "markdown",
      "source": [
        "### **Show how coding proficiency affects the decision-making process regarding which track to choose for the third-year major.**"
      ],
      "metadata": {
        "id": "CkI6NbUXUCmo"
      }
    },
    {
      "cell_type": "code",
      "source": [
        "# Define custom colors for SMP and WAMD\n",
        "custom_palette = {'smp': 'orange', 'wamd': 'blue'}\n",
        "\n",
        "# Violin plot for Coding Proficiency by Major with exchanged colors\n",
        "plt.figure(figsize=(10, 6))\n",
        "sns.violinplot(x='MAJOR', y='Proficiency in Coding', data=dataset, palette=custom_palette)\n",
        "\n",
        "# Set labels and title\n",
        "plt.xlabel('Major')\n",
        "plt.ylabel('Coding Proficiency (1-5)')\n",
        "plt.title('Effect of Coding Proficiency on Choosing Major')\n",
        "\n",
        "# Show the plot\n",
        "plt.show()"
      ],
      "metadata": {
        "colab": {
          "base_uri": "https://localhost:8080/",
          "height": 564
        },
        "id": "JCG14LUCwXuv",
        "outputId": "e8afa547-d539-42ed-df7c-566712e51083"
      },
      "execution_count": null,
      "outputs": [
        {
          "output_type": "display_data",
          "data": {
            "text/plain": [
              "<Figure size 1000x600 with 1 Axes>"
            ],
            "image/png": "[encoded data removed]"
          },
          "metadata": {}
        }
      ]
    },
    {
      "cell_type": "markdown",
      "source": [
        "**We can see that most of the students with average and below-average coding proficiency commonly choose SMP as their major**."
      ],
      "metadata": {
        "id": "ZyuPz-OmU7zc"
      }
    },
    {
      "cell_type": "markdown",
      "source": [
        "### **Display the count for each work preference.**"
      ],
      "metadata": {
        "id": "3VIShLssW00H"
      }
    },
    {
      "cell_type": "code",
      "source": [
        "# Bar plot for Work Preference\n",
        "plt.figure(figsize=(8, 5))\n",
        "sns.countplot(x='WORK PREFERENCE', data=dataset, palette='viridis')\n",
        "\n",
        "# Set labels and title\n",
        "plt.xlabel('WORK PREFERENCE')\n",
        "plt.ylabel('Count')\n",
        "plt.title('Count of Each Work Preference')\n",
        "\n",
        "# Show the plot\n",
        "plt.show()"
      ],
      "metadata": {
        "colab": {
          "base_uri": "https://localhost:8080/",
          "height": 487
        },
        "id": "0yt3vGcyy0p4",
        "outputId": "4f808394-e664-48de-ec89-b6a92c1ec11c"
      },
      "execution_count": null,
      "outputs": [
        {
          "output_type": "display_data",
          "data": {
            "text/plain": [
              "<Figure size 800x500 with 1 Axes>"
            ],
            "image/png": "[encoded data removed]"
          },
          "metadata": {}
        }
      ]
    },
    {
      "cell_type": "markdown",
      "source": [
        "**Most of the BSIT students preferred to work as freelancers.**"
      ],
      "metadata": {
        "id": "52UgEB72XaMA"
      }
    },
    {
      "cell_type": "markdown",
      "source": [
        "### **Display Work Preference Distribution Across Majors**"
      ],
      "metadata": {
        "id": "txRj_hdyYMZm"
      }
    },
    {
      "cell_type": "code",
      "source": [
        "cross_tab = pd.crosstab(dataset['WORK PREFERENCE'], dataset['MAJOR'])\n",
        "\n",
        "plt.figure(figsize=(10, 6))\n",
        "cross_tab.plot(kind='bar', stacked=True, colormap='viridis')\n",
        "\n",
        "# Set labels and title\n",
        "plt.xlabel('Work Preference')\n",
        "plt.ylabel('Count')\n",
        "plt.title('Work Preference Distribution by Major')\n",
        "\n",
        "plt.show()"
      ],
      "metadata": {
        "colab": {
          "base_uri": "https://localhost:8080/",
          "height": 563
        },
        "id": "XWLDtU8f3mlu",
        "outputId": "964faf4a-ccbe-4f18-fc25-1fbd3d017aed"
      },
      "execution_count": null,
      "outputs": [
        {
          "output_type": "display_data",
          "data": {
            "text/plain": [
              "<Figure size 1000x600 with 0 Axes>"
            ]
          },
          "metadata": {}
        },
        {
          "output_type": "display_data",
          "data": {
            "text/plain": [
              "<Figure size 640x480 with 1 Axes>"
            ],
            "image/png": "[encoded data removed]"
          },
          "metadata": {}
        }
      ]
    },
    {
      "cell_type": "markdown",
      "source": [
        "**Individuals who choose SMP commonly prefer working in BPO companies, while those who select WAMD as their major often become programmers. Freelancing is embraced by both SMP and WAMD students, though there are more SMP students engaged in freelancing compared to WAMD.**"
      ],
      "metadata": {
        "id": "8b6Xk7OVa2hd"
      }
    },
    {
      "cell_type": "markdown",
      "source": [
        "### **Summary:**\n",
        "\n",
        "\n",
        "**Gender Distribution:**\n",
        "\n",
        "The study included 69 male (69%) and 31 female (31%) respondents.\n",
        "Males constitute a higher percentage of the total respondents.\n",
        "\n",
        "\n",
        "**Gender Distribution Across Majors:**\n",
        "\n",
        "In the SMP major, there were 46 males (75%) and 19 females (25%).\n",
        "In the WAMD major, there were 23 males (66%) and 12 females (34%).\n",
        "\n",
        "\n",
        "**Effect of Grades on Major Selection:**\n",
        "\n",
        "A scatter plot analysis revealed a potential correlation between higher grades and a preference for the WAMD major.\n",
        "This suggests that students with higher grades in Fundamentals of Programming and Intermediate Programming may lean towards choosing WAMD as their major.\n",
        "\n",
        "\n",
        "**Effect of Coding Proficiency on Major Selection:**\n",
        "\n",
        "A violin plot showcased that students with average and below-average coding proficiency often choose SMP as their major, while those with higher proficiency may opt for WAMD.\n",
        "\n",
        "\n",
        "**Work Preference Distribution:**\n",
        "\n",
        "A count plot revealed that a majority of students (across both majors) preferred freelancing after graduation. The second most common preference was to work in BPO roles, with fewer students opting to work as programmers.\n",
        "\n",
        "\n",
        "**Work Preference Distribution Across Majors:**\n",
        "\n",
        "A stacked bar plot illustrated that students in SMP commonly preferred BPO roles, while WAMD students leaned towards becoming programmers.\n",
        "Freelancing was embraced by students in both majors, with slightly more SMP students engaging in freelancing compared to WAMD.\n",
        "\n",
        "\n",
        "\n",
        "### **Conclusion:**\n",
        "\n",
        "The study provides valuable insights into the decision-making process of BSIT second-year students at Laguna State Polytechnic University. Gender distribution, academic performance, coding proficiency, and work preference are all factors that influence the selection of majors (SMP or WAMD). The findings suggest potential patterns in major selection based on these factors, providing valuable information for academic advisors and program planners. The study contributes to understanding the dynamics that shape students' decisions in pursuing specific tracks within the BSIT program.\n",
        "\n",
        "\n",
        "\n",
        "\n"
      ],
      "metadata": {
        "id": "w0yUe1nqwjzy"
      }
    }
  ]
}